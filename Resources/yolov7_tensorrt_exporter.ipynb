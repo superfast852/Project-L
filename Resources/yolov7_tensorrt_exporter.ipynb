{
 "cells": [
  {
   "cell_type": "code",
   "id": "8bc58466ed73991c",
   "metadata": {
    "collapsed": false,
    "jupyter": {
     "outputs_hidden": false
    }
   },
   "source": [
    "!git clone https://github.com/WongKinYiu/yolov7.git\n",
    "%cd ./yolov7\n",
    "!pip install nvidia-pyindex pycuda cuda-python\n",
    "!pip install -r ./requirements.txt\n",
    "!pip install onnx onnxsim"
   ],
   "outputs": [],
   "execution_count": null
  },
  {
   "metadata": {},
   "cell_type": "code",
   "source": [
    "!wget https://github.com/WongKinYiu/yolov7/releases/download/v0.1/yolov7-tiny.pt\n",
    "!python export.py --weights ./yolov7-tiny.pt --grid --end2end --simplify --topk-all 100 --iou-thres 0.65 --conf-thres 0.35 --img-size 640 640\n",
    "!git clone https://github.com/Linaom1214/tensorrt-python.git\n",
    "!python ./tensorrt-python/export.py -o yolov7-tiny.onnx -e yolov7-tiny-nms.trt -p fp16 -w 8\n",
    "%cp ./yolov7-tiny-nms.trt ../../extensions/"
   ],
   "id": "initial_id",
   "outputs": [],
   "execution_count": null
  }
 ],
 "metadata": {
  "kernelspec": {
   "display_name": "Python 3 (ipykernel)",
   "language": "python",
   "name": "python3"
  },
  "language_info": {
   "codemirror_mode": {
    "name": "ipython",
    "version": 3
   },
   "file_extension": ".py",
   "mimetype": "text/x-python",
   "name": "python",
   "nbconvert_exporter": "python",
   "pygments_lexer": "ipython3",
   "version": "3.8.10"
  }
 },
 "nbformat": 4,
 "nbformat_minor": 5
}
